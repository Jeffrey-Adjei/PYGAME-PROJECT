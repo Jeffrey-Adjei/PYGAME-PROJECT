{
  "nbformat": 4,
  "nbformat_minor": 0,
  "metadata": {
    "colab": {
      "provenance": []
    },
    "kernelspec": {
      "name": "python3",
      "display_name": "Python 3"
    },
    "language_info": {
      "name": "python"
    }
  },
  "cells": [
    {
      "cell_type": "markdown",
      "source": [
        "Action 2"
      ],
      "metadata": {
        "id": "Ok3IlWst41HU"
      }
    },
    {
      "cell_type": "code",
      "execution_count": null,
      "metadata": {
        "id": "OCZwluVS4xsl"
      },
      "outputs": [],
      "source": [
        "# add this function to utils.py\n",
        "import copy\n",
        "def probability_of_valid_group_hand(players_hand, other_hand1, other_hand2 = None):\n",
        "  # initialize variable\n",
        "  success = 0\n",
        "  prob = []\n",
        "\n",
        "  #find prob. for 1st player\n",
        "  if len(other_hand1) == 1:\n",
        "    prob.append(0)\n",
        "  else:\n",
        "    for i in other_hand1:\n",
        "      hands = copy.deepcopy(players_hand)\n",
        "      hands.collection.append(i)\n",
        "      if find_possible_groups(hands) != []:\n",
        "        success += 1\n",
        "    prob.append(success / len(other_hand1))\n",
        "\n",
        "  #find prob. for 2nd player\n",
        "  if other_hand2 is not None:\n",
        "    if len(other_hand2) == 1:\n",
        "      prob.append(0)\n",
        "    else:\n",
        "      success = 0\n",
        "      for i in other_hand2:\n",
        "        hands = copy.deepcopy(players_hand)\n",
        "        hands.collection.append(i)\n",
        "        if find_possible_groups(hands) != []:\n",
        "          success += 1\n",
        "      prob.append(success / len(other_hand2))\n",
        "\n",
        "  return prob"
      ]
    },
    {
      "cell_type": "markdown",
      "source": [
        "Add Function"
      ],
      "metadata": {
        "id": "b4dHI-d6Za_7"
      }
    },
    {
      "cell_type": "code",
      "source": [
        "def find_largest_groups(group):\n",
        "  largest_group = []\n",
        "  for i in range(len(group)):\n",
        "    if len(group[i]) > len(largest_group):\n",
        "      largest_group = i\n",
        "  return largest_group"
      ],
      "metadata": {
        "id": "SbHQVghPZaob"
      },
      "execution_count": null,
      "outputs": []
    },
    {
      "cell_type": "markdown",
      "source": [
        "Calling the function"
      ],
      "metadata": {
        "id": "fy8RLwjh5JjH"
      }
    },
    {
      "cell_type": "code",
      "source": [
        "# directly copy and paste the code\n",
        "class AIPlayer(Player):\n",
        "    def choose_action(self, game_state):\n",
        "        # Basic AI logic\n",
        "        groups = find_possible_groups(self.hand)\n",
        "        if groups != []:\n",
        "            largest_group = find_largest_groups(group)\n",
        "            self.discard_group(groups[0], game_state['deck'])\n",
        "        elif not self.actions_taken['draw']:\n",
        "            num_to_draw = min(3, 20 - len(self.hand))\n",
        "            self.draw_cards(game_state['deck'], num_to_draw)\n",
        "            self.actions_taken['draw'] = True\n",
        "        elif not self.actions_taken['steal']:\n",
        "            other_players = [p for p in game_state['players']]\n",
        "            if other_players != []:\n",
        "                target_player = random.choice(other_players)\n",
        "                self.take_card_from(target_player)\n",
        "                self.actions_taken['steal'] = True\n",
        "        else:\n",
        "            self.reset_actions()\n",
        "\n",
        "class AggressiveAIPlayer(AIPlayer):\n",
        "    def choose_action(self, game_state):\n",
        "        if not self.actions_taken['steal']:\n",
        "            other_players = [p for p in game_state['players']]\n",
        "            target_player = None\n",
        "            if other_players != []:\n",
        "                if len(other_players) == 2:\n",
        "                    prob = probability_of_valid_group_hand(self.hand, other_players[0].hand, other_players[1].hand)\n",
        "                    if not (prob[0] == 0 and prob[1] == 0):\n",
        "                      if prob[0] > prob[1]:\n",
        "                        target_player = other_players[0]\n",
        "                      elif prob[1] > prob[0]:\n",
        "                        target_player = other_players[1]\n",
        "                      else:\n",
        "                        target_player = max(other_players, key=lambda p: len(p.hand))\n",
        "                else:\n",
        "                    prob = probability_of_valid_group_hand(self.hand, other_players[0].hand)\n",
        "                    if prob[0] != 0:\n",
        "                        target_player = other_players[0]\n",
        "                if target_player is not None:\n",
        "                    self.take_card_from(target_player)\n",
        "                self.actions_taken['steal'] = True\n",
        "        else:\n",
        "          super().choose_action(game_state)\n",
        "\n",
        "class DefensiveAIPlayer(AIPlayer):\n",
        "    def choose_action(self, game_state):\n",
        "        if not self.actions_taken['draw']:\n",
        "            num_to_draw = min(3, 20 - len(self.hand))\n",
        "            self.draw_cards(game_state['deck'], num_to_draw)\n",
        "            self.actions_taken['draw'] = True\n",
        "        else:\n",
        "            super().choose_action(game_state)\n",
        "\n",
        "class BalancedAIPlayer(AIPlayer):\n",
        "    def choose_action(self, game_state):\n",
        "        groups = find_possible_groups(self.hand)\n",
        "        if groups != []:\n",
        "            largest_group = find_largest_groups(group)\n",
        "            self.discard_group(largest_group, game_state['deck'])\n",
        "        elif len(self.hand) < 15 and not self.actions_taken['draw']:\n",
        "            num_to_draw = min(3, 20 - len(self.hand))\n",
        "            self.draw_cards(game_state['deck'], num_to_draw)\n",
        "            self.actions_taken['draw'] = True\n",
        "        elif not self.actions_taken['steal']:\n",
        "            other_players = [p for p in game_state['players']]\n",
        "            target_player = None\n",
        "            if other_players != []:\n",
        "                if len(other_players) == 2:\n",
        "                    prob = probability_of_valid_group_hand(self.hand, other_players[0].hand, other_players[1].hand)\n",
        "                    if not (prob[0] == 0 and prob[1] == 0):\n",
        "                      if prob[0] > prob[1]:\n",
        "                        target_player = other_players[0]\n",
        "                      elif prob[1] > prob[0]:\n",
        "                        target_player = other_players[1]\n",
        "                      else:\n",
        "                        target_player = max(other_players, key=lambda p: len(p.hand))\n",
        "                else:\n",
        "                    prob = probability_of_valid_group_hand(self.hand, other_players[0].hand)\n",
        "                    if prob[0] != 0:\n",
        "                        target_player = other_players[0]\n",
        "                if target_player is not None:\n",
        "                    self.take_card_from(target_player)\n",
        "                self.actions_taken['steal'] = True\n",
        "        else:\n",
        "            super().choose_action(game_state)"
      ],
      "metadata": {
        "id": "R0Fr9R94bb9l"
      },
      "execution_count": null,
      "outputs": []
    }
  ]
}